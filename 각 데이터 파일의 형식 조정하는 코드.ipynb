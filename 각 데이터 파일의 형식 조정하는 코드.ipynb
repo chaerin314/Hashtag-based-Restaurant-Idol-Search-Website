{
 "cells": [
  {
   "cell_type": "code",
   "execution_count": 25,
   "id": "debec407",
   "metadata": {},
   "outputs": [],
   "source": [
    "# <식당>파일 합치는 방법\n",
    "# 1. 카맵 파일에서 '리뷰수' 없애고, '별점건수'에서 '건' 글자 빼기\n",
    "# 2. 수동으로 '별점건수'->'리뷰수'로 이름 바꾸기, 카맵+망고\n",
    "# 3. 중복 제거하기"
   ]
  },
  {
   "cell_type": "code",
   "execution_count": 34,
   "id": "5be66173",
   "metadata": {},
   "outputs": [],
   "source": [
    "# 1. 카카오맵 파일에서 '리뷰수' 없애고, '별점건수'에서 '건'글자 빼기\n",
    "oldFile = 'kakaomap_restaurant_.csv'\n",
    "newFile = open('kakaomap_restaurant.csv', 'w', encoding='utf-8')\n",
    "\n",
    "f = open(oldFile, 'r', encoding='utf-8')\n",
    "lines = f.readlines()\n",
    "\n",
    "for line in lines:\n",
    "    line = line.strip()\n",
    "    text = line.split(',')\n",
    "    if(text[6].find('건')!=-1):\n",
    "        text2 = text[6].split('건')\n",
    "    else:\n",
    "        text2 = ['리뷰수']\n",
    "    newFile.write(text[0]+\",\"+text[1]+\",\"+text[2]+\",\"+text[3]+\",\"+text[4]+\",\"+text[5]+\",\"+text2[0]+\"\\n\")\n",
    "newFile.close()"
   ]
  },
  {
   "cell_type": "code",
   "execution_count": 5,
   "id": "e73deb7a",
   "metadata": {},
   "outputs": [],
   "source": [
    "# 3. 중복 제거하기\n",
    "oldFile = 'kakaomap_restaurant_.csv'\n",
    "newFile = open('kakaomap_restaurant.csv', 'w', encoding='utf-8')\n",
    "\n",
    "f = open(oldFile, 'r', encoding='utf-8')\n",
    "lines = f.readlines()\n",
    "# 다음은 예시임\n",
    "# lines = ['식당이름,구분,평점,주소,영업시간,전화번호,리뷰수','쓲,일식집,5.0,서울 서초구 강남대로 455,매일 11:00 ~ 21:00 · 브레이크타임 매일 14:30 ~ 17:00,02-599-0999,2',\n",
    "#         '타쿠미곤, 정통 일식 / 일반 일식,4.8,서울시 서초구 반포동 107-45 부림빌딩 2F,12:00 - 22:00,02-595-1935,56','타쿠미곤, 랄라,4.8,서울시 서초구 반포동 107-45 부림빌딩 2F,12:00 - 22:00,02-595-1935,56',\n",
    "#         '타쿠미곤, 랄라,블라,서울시 서초구 반포동 107-45 부림빌딩 2F,12:00 - 22:00,02-595-1935,56','쓲,일식집,5.0,랄라블라,매일 11:00 ~ 21:00 · 브레이크타임 매일 14:30 ~ 17:00,02-599-0999,2',\n",
    "#         '타쿠미곤, 랄라,블라,어쩌구,12:00 - 22:00,02-595-1935,56','*****,*****,*****,*****,*****,*****,*****']\n",
    "\n",
    "names = []\n",
    "others = []\n",
    "\n",
    "for i,line in enumerate(lines): #라인별로 나누기\n",
    "    line = line.strip()\n",
    "    text = line.split(',')\n",
    "    names.append(text[0])\n",
    "    others.append([text[1],text[2],text[3],text[4],text[5],text[6]])\n",
    "\n",
    "i=0\n",
    "while(1): #식당이름이 2개 이상이면 이름을 @@@@@로 바꾸기\n",
    "    if(names[i]=='*****'):\n",
    "        break\n",
    "    if(names[i]!='@@@@@' and names.count(names[i])>1):\n",
    "        names[i]='@@@@@'\n",
    "    i+=1\n",
    "\n",
    "j=0\n",
    "while(1): #식당이름이 @@@@@이면 그 행은 기록하지 않는다.\n",
    "    if(names[j]=='*****'):\n",
    "        break\n",
    "    if(names[j]!='@@@@@'):\n",
    "        newFile.write(names[j])\n",
    "        for k in range(6):\n",
    "            newFile.write(\",\")\n",
    "            newFile.write(others[j][k])\n",
    "        newFile.write(\"\\n\")\n",
    "    j+=1\n",
    "\n",
    "newFile.close()"
   ]
  },
  {
   "cell_type": "code",
   "execution_count": 17,
   "id": "ece4d4fa",
   "metadata": {},
   "outputs": [],
   "source": [
    "# <메뉴> 구 별 파일 합치기\n",
    "gu_list = ['마포구','서대문구','은평구','종로구','중구','용산구','성동구','광진구',\n",
    "           '동대문구','성북구','강북구','도봉구','노원구','중랑구','강동구','송파구',\n",
    "           '강남구','서초구','관악구','동작구','영등포구','금천구','구로구','양천구','강서구']\n",
    "\n",
    "newFile = open('kakaomap_menus.csv', 'w', encoding='utf-8')\n",
    "newFile.write('식당이름,메뉴이름,가격\\n')\n",
    "newFile.close()\n",
    "\n",
    "for gu_name in gu_list:\n",
    "    oldFile = gu_name+'_kakaomap_menu.csv'\n",
    "    f = open(oldFile, 'r', encoding='utf-8') \n",
    "    f.readline() # 첫줄 빼고\n",
    "    while(1):\n",
    "        line = f.readline()\n",
    "        if not line: break\n",
    "        newFile = open('kakaomap_menus.csv', 'a', encoding='utf-8')\n",
    "        newFile.write(line)\n",
    "        \n",
    "newFile.close()"
   ]
  },
  {
   "cell_type": "code",
   "execution_count": 18,
   "id": "01517d44",
   "metadata": {},
   "outputs": [],
   "source": [
    "# <리뷰> 구 별 파일 합치기\n",
    "gu_list = ['마포구','서대문구','은평구','종로구','중구','용산구','성동구','광진구',\n",
    "           '동대문구','성북구','강북구','도봉구','노원구','중랑구','강동구','송파구',\n",
    "           '강남구','서초구','관악구','동작구','영등포구','금천구','구로구','양천구','강서구']\n",
    "\n",
    "newFile = open('kakaomap_reviews.csv', 'w', encoding='utf-8')\n",
    "newFile.write('식당이름,별점,리뷰\\n')\n",
    "newFile.close()\n",
    "\n",
    "for gu_name in gu_list:\n",
    "    oldFile = gu_name+'_kakaomap_review.csv'\n",
    "    f = open(oldFile, 'r', encoding='utf-8') \n",
    "    f.readline() # 첫줄 빼고\n",
    "    while(1):\n",
    "        line = f.readline()\n",
    "        if not line: break\n",
    "        newFile = open('kakaomap_reviews.csv', 'a', encoding='utf-8')\n",
    "        newFile.write(line)\n",
    "        \n",
    "newFile.close()"
   ]
  },
  {
   "cell_type": "code",
   "execution_count": null,
   "id": "6a732a5e",
   "metadata": {},
   "outputs": [],
   "source": [
    "# <메뉴> 파일 합치기\n",
    "# 1. 망고 파일에서 \",',',원 제거\n",
    "# 2. 수동 복붙(망고+카맵)"
   ]
  },
  {
   "cell_type": "code",
   "execution_count": 16,
   "id": "588ea9de",
   "metadata": {},
   "outputs": [
    {
     "name": "stdout",
     "output_type": "stream",
     "text": [
      "그릭데이 (이대점),천도복숭아 (토핑),800원\n",
      "어제의 카레,써니사이드업,500원\n",
      "구법원,고로케 (1개),700원\n"
     ]
    }
   ],
   "source": [
    "# 1. 망고 파일에서 탭,괄호,\",,,원 제거\n",
    "import re\n",
    "\n",
    "oldFile = 'mango_menus_.csv'\n",
    "open('mango_menus.csv', 'w', encoding='utf-8')\n",
    "newFile = open('mango_menus.csv', 'a', encoding='utf-8')\n",
    "\n",
    "f = open(oldFile, 'r', encoding='utf-8')\n",
    "lines = f.readlines()\n",
    "\n",
    "for line in lines:\n",
    "    line = line.strip()\n",
    "    if(line=='식당이름,메뉴,가격'):\n",
    "        newFile.write(line+\"\\n\")\n",
    "        continue\n",
    "    if(line.find(' ')!=-1):\n",
    "        line = \" \".join(line.split())\n",
    "    text = line.split('\"')\n",
    "    t = text[0].split(',')\n",
    "    t[0] = re.sub(\"[()]\",\"\", t[0])\n",
    "    try:\n",
    "        if(text[1].find(',')!=-1):\n",
    "            text[1] = text[1].replace(',','')\n",
    "    except IndexError:\n",
    "        print(line)\n",
    "        continue\n",
    "    if(text[1].find('원')!=-1):\n",
    "        text[1] = text[1].replace('원','')\n",
    "    newFile.write(t[0]+','+t[1]+','+text[1]+\"\\n\")\n",
    "newFile.close()"
   ]
  },
  {
   "cell_type": "code",
   "execution_count": 2,
   "id": "09573e8d",
   "metadata": {},
   "outputs": [],
   "source": [
    "#<식당> column에 '찜' 추가\n",
    "\n",
    "filename = 'restaurant_.csv'\n",
    "old = open(filename, 'r', encoding='utf-8')\n",
    "newFile = 'restaurant.csv'\n",
    "open(newFile,'w',encoding='utf-8')\n",
    "new = open(newFile,'a',encoding='utf-8')\n",
    "\n",
    "while(1):\n",
    "    line = old.readline() #모든 line이 끝날때까지\n",
    "    if not line:\n",
    "        break\n",
    "    else:\n",
    "        new.write(line.strip('\\n'))\n",
    "        new.write(',0\\n')\n",
    "new.close()"
   ]
  },
  {
   "cell_type": "code",
   "execution_count": 7,
   "id": "f1693731",
   "metadata": {},
   "outputs": [],
   "source": [
    "#<사용자> 테이블 만들기(100명)\n",
    "filename = 'user.csv'\n",
    "open(filename,'w',encoding='utf-8')\n",
    "new = open(filename,'a',encoding='utf-8')\n",
    "\n",
    "new.write('아이디,비밀번호\\n')\n",
    "for i in range(100):\n",
    "    new.write('person'+str(i)+','+'pswd'+str(i)+'\\n')\n",
    "new.close()"
   ]
  },
  {
   "cell_type": "code",
   "execution_count": 1,
   "id": "8d7889d7",
   "metadata": {},
   "outputs": [],
   "source": [
    "#<트윗> 테이블 텍스트 \\n없애기\n",
    "\n",
    "filename = 'tweet__.csv'\n",
    "old = open(filename,'r',encoding='utf-8')\n",
    "open('tweet_.csv','w',encoding='utf-8')\n",
    "new = open('tweet_.csv','a',encoding='utf-8')\n",
    "\n",
    "line = old.read()\n",
    "text = line.split('.jpg\\n ')\n",
    "for i in range(len(text)-1):\n",
    "    cell = text[i].split('\"')\n",
    "    if(cell[1].find(',')!=-1):\n",
    "        cell[1] = cell[1].replace(',',' ')\n",
    "    if(cell[1].find('\\n')!=-1):\n",
    "        cell[1] = cell[1].replace('\\n',' | ')\n",
    "    new.write(cell[0]+cell[1]+cell[2]+'.jpg\\n')\n",
    "new.close()"
   ]
  },
  {
   "cell_type": "code",
   "execution_count": 3,
   "id": "881ad468",
   "metadata": {},
   "outputs": [
    {
     "ename": "SyntaxError",
     "evalue": "invalid syntax (<ipython-input-3-58dabb340182>, line 9)",
     "output_type": "error",
     "traceback": [
      "\u001b[1;36m  File \u001b[1;32m\"<ipython-input-3-58dabb340182>\"\u001b[1;36m, line \u001b[1;32m9\u001b[0m\n\u001b[1;33m    print(df.'영업시간')\u001b[0m\n\u001b[1;37m             ^\u001b[0m\n\u001b[1;31mSyntaxError\u001b[0m\u001b[1;31m:\u001b[0m invalid syntax\n"
     ]
    }
   ],
   "source": [
    "#망고플레이트: <영업시간> 테이블 만들기\n",
    "\n",
    "import pandas as pd\n",
    "import re\n",
    "\n",
    "open('openhours.csv', 'w', encoding='utf-8').write('식당이름,요일,오픈,클로즈,브레이크시작,브레이크끝')\n",
    "table = open('openhours.csv', 'r', encoding='utf-8')\n",
    "\n",
    "df = pd.read_csv(\"restaurant.csv\", sep=\",\")\n",
    "\n",
    "#망고플레이트 영업시간\n",
    "#한글이 나오면 요일, 숫자가 나오면 시간\n",
    "#월/화/수\n",
    "#유동적?-시간으로 봐야..\n",
    "#메뉴..? 예외처리\n",
    "\n",
    "#<영업시간> 테이블 - 각 식당마다 7개 레코드 가짐(모든 요일)\n",
    "#휴무일아님,브레이크있음: 식당이름, 요일, 오픈, 클로즈, 브레이크시작, 브레이크끝\n",
    "#휴무일아님,브레이크없음: 식당이름, 요일, 오픈, 클로즈,             ,\n",
    "#휴무일:                  식당이름, 휴무일,   ,       ,             ,\n",
    "\n",
    "while(df.식당이름!='쓲'):\n",
    "    openhours = df.영업시간.split(' ')\n",
    "    for i in range(len(openhours)):\n",
    "        if(openhours[i][0]==0 or openhours[i][0]==1 or openhours[i][0]==2):\n",
    "            open = "
   ]
  },
  {
   "cell_type": "code",
   "execution_count": null,
   "id": "19f8edb7",
   "metadata": {},
   "outputs": [],
   "source": [
    "#<식당> 테이블에서 영업시간 빼기\n",
    "\n",
    "import pandas as pd\n",
    "\n",
    "df = pd.read_csv(\"test.csv\", sep=\",\")"
   ]
  },
  {
   "cell_type": "code",
   "execution_count": null,
   "id": "74484f3a",
   "metadata": {},
   "outputs": [],
   "source": [
    "# 전국구 별 파일 합치기\n",
    "gu_list = ['마포구','서대문구','은평구','종로구','중구','용산구','성동구','광진구',\n",
    "           '동대문구','성북구','강북구','도봉구','노원구','중랑구','강동구','송파구',\n",
    "           '강남구','서초구','관악구','동작구','영등포구','금천구','구로구','양천구','강서구',\n",
    "           '강원도','경기도','경상남도','경상북도','전라남도','전라북도','충청남도','충청북도']\n",
    "\n",
    "newFile = open('construction.csv', 'w', encoding='utf-8')\n",
    "newFile.write('업체명,주소,전화번호\\n')\n",
    "newFile.close()\n",
    "\n",
    "for gu_name in gu_list:\n",
    "    oldFile = gu_name+'construction.csv'\n",
    "    f = open(oldFile, 'r', encoding='utf-8')\n",
    "    while(1):\n",
    "        line = f.readline()\n",
    "        if not line: break\n",
    "        newFile = open('construction.csv', 'a', encoding='utf-8')\n",
    "        newFile.write(line)\n",
    "        \n",
    "newFile.close()"
   ]
  }
 ],
 "metadata": {
  "kernelspec": {
   "display_name": "Python 3",
   "language": "python",
   "name": "python3"
  },
  "language_info": {
   "codemirror_mode": {
    "name": "ipython",
    "version": 3
   },
   "file_extension": ".py",
   "mimetype": "text/x-python",
   "name": "python",
   "nbconvert_exporter": "python",
   "pygments_lexer": "ipython3",
   "version": "3.8.8"
  }
 },
 "nbformat": 4,
 "nbformat_minor": 5
}
